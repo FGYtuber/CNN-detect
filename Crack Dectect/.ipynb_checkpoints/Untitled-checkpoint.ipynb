{
 "cells": [
  {
   "cell_type": "code",
   "execution_count": 3,
   "id": "f208e854",
   "metadata": {},
   "outputs": [],
   "source": [
    "#import library\n",
    "import tensorflow as tf\n",
    "\n",
    "import matplotlib.pyplot as plt \n",
    "import numpy as np \n",
    "import pandas as pd \n",
    "import seaborn as sns\n",
    "\n",
    "import plotly.express as px\n",
    "\n",
    "from pathlib import Path  \n",
    "from sklearn.model_selection import train_test_split\n",
    "from sklearn.metrics import confusion_matrix, classification_report\n"
   ]
  },
  {
   "cell_type": "code",
   "execution_count": 4,
   "id": "16f162ac",
   "metadata": {},
   "outputs": [],
   "source": [
    "#load data\n",
    "possitive_dir = Path('E:/My file/File in here/archive/Positive')\n",
    "negative_dir = Path('E:/My file/File in here/archive/Negative')\n"
   ]
  },
  {
   "cell_type": "code",
   "execution_count": 5,
   "id": "94ffee7a",
   "metadata": {},
   "outputs": [
    {
     "name": "stdout",
     "output_type": "stream",
     "text": [
      "                                                Filepath     Label\n",
      "0      E:\\My file\\File in here\\archive\\Positive\\03842...  POSITIVE\n",
      "1      E:\\My file\\File in here\\archive\\Positive\\12899...  POSITIVE\n",
      "2      E:\\My file\\File in here\\archive\\Positive\\15033...  POSITIVE\n",
      "3      E:\\My file\\File in here\\archive\\Negative\\16782...  NEGATIVE\n",
      "4      E:\\My file\\File in here\\archive\\Positive\\09202...  POSITIVE\n",
      "...                                                  ...       ...\n",
      "39995  E:\\My file\\File in here\\archive\\Positive\\07814...  POSITIVE\n",
      "39996  E:\\My file\\File in here\\archive\\Negative\\12512...  NEGATIVE\n",
      "39997  E:\\My file\\File in here\\archive\\Positive\\05193...  POSITIVE\n",
      "39998  E:\\My file\\File in here\\archive\\Positive\\12173...  POSITIVE\n",
      "39999  E:\\My file\\File in here\\archive\\Negative\\13004...  NEGATIVE\n",
      "\n",
      "[40000 rows x 2 columns]\n",
      "                                                Filepath     Label\n",
      "30189  E:\\My file\\File in here\\archive\\Negative\\05491...  NEGATIVE\n",
      "8931   E:\\My file\\File in here\\archive\\Negative\\11669...  NEGATIVE\n",
      "29084  E:\\My file\\File in here\\archive\\Positive\\15616...  POSITIVE\n",
      "29189  E:\\My file\\File in here\\archive\\Negative\\02517...  NEGATIVE\n",
      "2645   E:\\My file\\File in here\\archive\\Negative\\17792...  NEGATIVE\n",
      "...                                                  ...       ...\n",
      "2090   E:\\My file\\File in here\\archive\\Positive\\12368...  POSITIVE\n",
      "35101  E:\\My file\\File in here\\archive\\Positive\\07028...  POSITIVE\n",
      "8720   E:\\My file\\File in here\\archive\\Positive\\16562...  POSITIVE\n",
      "9955   E:\\My file\\File in here\\archive\\Positive\\15478...  POSITIVE\n",
      "24438  E:\\My file\\File in here\\archive\\Negative\\11927...  NEGATIVE\n",
      "\n",
      "[4200 rows x 2 columns]\n",
      "                                                Filepath     Label\n",
      "15731  E:\\My file\\File in here\\archive\\Negative\\04014...  NEGATIVE\n",
      "34272  E:\\My file\\File in here\\archive\\Negative\\08408...  NEGATIVE\n",
      "39532  E:\\My file\\File in here\\archive\\Positive\\13672...  POSITIVE\n",
      "10818  E:\\My file\\File in here\\archive\\Positive\\19695...  POSITIVE\n",
      "35421  E:\\My file\\File in here\\archive\\Negative\\02324...  NEGATIVE\n",
      "...                                                  ...       ...\n",
      "7174   E:\\My file\\File in here\\archive\\Positive\\04272...  POSITIVE\n",
      "27207  E:\\My file\\File in here\\archive\\Negative\\00468...  NEGATIVE\n",
      "28566  E:\\My file\\File in here\\archive\\Negative\\04314...  NEGATIVE\n",
      "20688  E:\\My file\\File in here\\archive\\Positive\\16522...  POSITIVE\n",
      "20371  E:\\My file\\File in here\\archive\\Positive\\06210...  POSITIVE\n",
      "\n",
      "[1800 rows x 2 columns]\n"
     ]
    }
   ],
   "source": [
    "#Create DataFrames\n",
    "def generate_df(image_dir, label):\n",
    "\tfilepaths = pd.Series(list(image_dir.glob(r'*.jpg')),name='Filepath').astype(str)\n",
    "\tlabels = pd.Series(label, name='Label', index=filepaths.index)\n",
    "\n",
    "\tdf = pd.concat([filepaths, labels], axis=1)\n",
    "\treturn df\n",
    "\n",
    "possitive_df = generate_df(possitive_dir, label=\"POSITIVE\")\n",
    "negative_df = generate_df(negative_dir, label=\"NEGATIVE\")\n",
    "\n",
    "all_df = pd.concat([possitive_df, negative_df], axis=0).sample(frac=1.0, random_state=1).reset_index(drop=True)\n",
    "print(all_df)\n",
    "\n",
    "train_df, test_df = train_test_split(\n",
    "\tall_df.sample(6000, random_state=1),\n",
    "\ttrain_size=0.7,\n",
    "\tshuffle=True,\n",
    "\trandom_state=1\n",
    ")\n",
    "\n",
    "print(train_df)\n",
    "print(test_df)"
   ]
  },
  {
   "cell_type": "code",
   "execution_count": 8,
   "id": "a3eded91",
   "metadata": {},
   "outputs": [
    {
     "name": "stdout",
     "output_type": "stream",
     "text": [
      "                                                Filepath     Label\n",
      "0      E:\\My file\\File in here\\archive\\Positive\\03842...  POSITIVE\n",
      "1      E:\\My file\\File in here\\archive\\Positive\\12899...  POSITIVE\n",
      "2      E:\\My file\\File in here\\archive\\Positive\\15033...  POSITIVE\n",
      "3      E:\\My file\\File in here\\archive\\Negative\\16782...  NEGATIVE\n",
      "4      E:\\My file\\File in here\\archive\\Positive\\09202...  POSITIVE\n",
      "...                                                  ...       ...\n",
      "39995  E:\\My file\\File in here\\archive\\Positive\\07814...  POSITIVE\n",
      "39996  E:\\My file\\File in here\\archive\\Negative\\12512...  NEGATIVE\n",
      "39997  E:\\My file\\File in here\\archive\\Positive\\05193...  POSITIVE\n",
      "39998  E:\\My file\\File in here\\archive\\Positive\\12173...  POSITIVE\n",
      "39999  E:\\My file\\File in here\\archive\\Negative\\13004...  NEGATIVE\n",
      "\n",
      "[40000 rows x 2 columns]\n",
      "                                                Filepath     Label\n",
      "30189  E:\\My file\\File in here\\archive\\Negative\\05491...  NEGATIVE\n",
      "8931   E:\\My file\\File in here\\archive\\Negative\\11669...  NEGATIVE\n",
      "29084  E:\\My file\\File in here\\archive\\Positive\\15616...  POSITIVE\n",
      "29189  E:\\My file\\File in here\\archive\\Negative\\02517...  NEGATIVE\n",
      "2645   E:\\My file\\File in here\\archive\\Negative\\17792...  NEGATIVE\n",
      "...                                                  ...       ...\n",
      "2090   E:\\My file\\File in here\\archive\\Positive\\12368...  POSITIVE\n",
      "35101  E:\\My file\\File in here\\archive\\Positive\\07028...  POSITIVE\n",
      "8720   E:\\My file\\File in here\\archive\\Positive\\16562...  POSITIVE\n",
      "9955   E:\\My file\\File in here\\archive\\Positive\\15478...  POSITIVE\n",
      "24438  E:\\My file\\File in here\\archive\\Negative\\11927...  NEGATIVE\n",
      "\n",
      "[4200 rows x 2 columns]\n",
      "                                                Filepath     Label\n",
      "15731  E:\\My file\\File in here\\archive\\Negative\\04014...  NEGATIVE\n",
      "34272  E:\\My file\\File in here\\archive\\Negative\\08408...  NEGATIVE\n",
      "39532  E:\\My file\\File in here\\archive\\Positive\\13672...  POSITIVE\n",
      "10818  E:\\My file\\File in here\\archive\\Positive\\19695...  POSITIVE\n",
      "35421  E:\\My file\\File in here\\archive\\Negative\\02324...  NEGATIVE\n",
      "...                                                  ...       ...\n",
      "7174   E:\\My file\\File in here\\archive\\Positive\\04272...  POSITIVE\n",
      "27207  E:\\My file\\File in here\\archive\\Negative\\00468...  NEGATIVE\n",
      "28566  E:\\My file\\File in here\\archive\\Negative\\04314...  NEGATIVE\n",
      "20688  E:\\My file\\File in here\\archive\\Positive\\16522...  POSITIVE\n",
      "20371  E:\\My file\\File in here\\archive\\Positive\\06210...  POSITIVE\n",
      "\n",
      "[1800 rows x 2 columns]\n",
      "Found 3360 validated image filenames belonging to 2 classes.\n",
      "Found 840 validated image filenames belonging to 2 classes.\n",
      "Found 1800 validated image filenames belonging to 2 classes.\n",
      "Model: \"model_1\"\n",
      "_________________________________________________________________\n",
      " Layer (type)                Output Shape              Param #   \n",
      "=================================================================\n",
      " input_2 (InputLayer)        [(None, 120, 120, 3)]     0         \n",
      "                                                                 \n",
      " conv2d_2 (Conv2D)           (None, 118, 118, 16)      448       \n",
      "                                                                 \n",
      " max_pooling2d_2 (MaxPooling  (None, 59, 59, 16)       0         \n",
      " 2D)                                                             \n",
      "                                                                 \n",
      " conv2d_3 (Conv2D)           (None, 57, 57, 32)        4640      \n",
      "                                                                 \n",
      " max_pooling2d_3 (MaxPooling  (None, 28, 28, 32)       0         \n",
      " 2D)                                                             \n",
      "                                                                 \n",
      " global_average_pooling2d_1   (None, 32)               0         \n",
      " (GlobalAveragePooling2D)                                        \n",
      "                                                                 \n",
      " dense_1 (Dense)             (None, 1)                 33        \n",
      "                                                                 \n",
      "=================================================================\n",
      "Total params: 5,121\n",
      "Trainable params: 5,121\n",
      "Non-trainable params: 0\n",
      "_________________________________________________________________\n",
      "None\n",
      "Epoch 1/100\n",
      "105/105 [==============================] - 44s 411ms/step - loss: 0.6735 - accuracy: 0.6062 - val_loss: 0.6483 - val_accuracy: 0.7774\n",
      "Epoch 2/100\n",
      "105/105 [==============================] - 22s 209ms/step - loss: 0.6087 - accuracy: 0.7167 - val_loss: 0.5602 - val_accuracy: 0.8012\n",
      "Epoch 3/100\n",
      "105/105 [==============================] - 22s 210ms/step - loss: 0.5236 - accuracy: 0.8009 - val_loss: 0.4827 - val_accuracy: 0.8333\n",
      "Epoch 4/100\n",
      "105/105 [==============================] - 22s 210ms/step - loss: 0.4433 - accuracy: 0.8717 - val_loss: 0.4129 - val_accuracy: 0.9000\n",
      "Epoch 5/100\n",
      "105/105 [==============================] - 23s 215ms/step - loss: 0.3514 - accuracy: 0.9211 - val_loss: 0.3022 - val_accuracy: 0.9071\n",
      "Epoch 6/100\n",
      "105/105 [==============================] - 24s 231ms/step - loss: 0.2901 - accuracy: 0.9307 - val_loss: 0.2724 - val_accuracy: 0.9536\n",
      "Epoch 7/100\n",
      "105/105 [==============================] - 26s 251ms/step - loss: 0.2497 - accuracy: 0.9396 - val_loss: 0.2084 - val_accuracy: 0.9512\n",
      "Epoch 8/100\n",
      "105/105 [==============================] - 26s 249ms/step - loss: 0.2065 - accuracy: 0.9461 - val_loss: 0.1908 - val_accuracy: 0.9417\n",
      "Epoch 9/100\n",
      "105/105 [==============================] - 26s 251ms/step - loss: 0.1805 - accuracy: 0.9557 - val_loss: 0.1535 - val_accuracy: 0.9536\n",
      "Epoch 10/100\n",
      "105/105 [==============================] - 26s 248ms/step - loss: 0.1630 - accuracy: 0.9580 - val_loss: 0.1416 - val_accuracy: 0.9560\n",
      "Epoch 11/100\n",
      "105/105 [==============================] - 26s 247ms/step - loss: 0.1596 - accuracy: 0.9577 - val_loss: 0.1342 - val_accuracy: 0.9536\n",
      "Epoch 12/100\n",
      "105/105 [==============================] - 26s 248ms/step - loss: 0.1418 - accuracy: 0.9640 - val_loss: 0.1328 - val_accuracy: 0.9536\n",
      "Epoch 13/100\n",
      "105/105 [==============================] - 26s 250ms/step - loss: 0.1427 - accuracy: 0.9631 - val_loss: 0.1125 - val_accuracy: 0.9583\n",
      "Epoch 14/100\n",
      "105/105 [==============================] - 26s 250ms/step - loss: 0.1289 - accuracy: 0.9646 - val_loss: 0.1092 - val_accuracy: 0.9560\n",
      "Epoch 15/100\n",
      "105/105 [==============================] - 27s 253ms/step - loss: 0.1227 - accuracy: 0.9643 - val_loss: 0.1056 - val_accuracy: 0.9571\n",
      "Epoch 16/100\n",
      "105/105 [==============================] - 26s 248ms/step - loss: 0.1191 - accuracy: 0.9664 - val_loss: 0.1250 - val_accuracy: 0.9679\n",
      "Epoch 17/100\n",
      "105/105 [==============================] - 27s 253ms/step - loss: 0.1097 - accuracy: 0.9696 - val_loss: 0.1105 - val_accuracy: 0.9667\n",
      "Epoch 18/100\n",
      "105/105 [==============================] - 26s 250ms/step - loss: 0.1078 - accuracy: 0.9670 - val_loss: 0.0997 - val_accuracy: 0.9702\n",
      "Epoch 19/100\n",
      "105/105 [==============================] - 26s 250ms/step - loss: 0.1048 - accuracy: 0.9693 - val_loss: 0.1022 - val_accuracy: 0.9583\n",
      "Epoch 20/100\n",
      "105/105 [==============================] - 26s 250ms/step - loss: 0.0982 - accuracy: 0.9699 - val_loss: 0.0896 - val_accuracy: 0.9690\n",
      "Epoch 21/100\n",
      "105/105 [==============================] - 26s 250ms/step - loss: 0.0989 - accuracy: 0.9708 - val_loss: 0.0897 - val_accuracy: 0.9619\n",
      "Epoch 22/100\n",
      "105/105 [==============================] - 26s 252ms/step - loss: 0.0978 - accuracy: 0.9741 - val_loss: 0.0849 - val_accuracy: 0.9702\n",
      "Epoch 23/100\n",
      "105/105 [==============================] - 26s 250ms/step - loss: 0.0941 - accuracy: 0.9726 - val_loss: 0.0941 - val_accuracy: 0.9702\n",
      "Epoch 24/100\n",
      "105/105 [==============================] - 26s 251ms/step - loss: 0.0914 - accuracy: 0.9744 - val_loss: 0.0904 - val_accuracy: 0.9726\n",
      "Epoch 25/100\n",
      "105/105 [==============================] - 27s 253ms/step - loss: 0.0956 - accuracy: 0.9717 - val_loss: 0.0836 - val_accuracy: 0.9714\n",
      "Epoch 26/100\n",
      "105/105 [==============================] - 27s 253ms/step - loss: 0.0934 - accuracy: 0.9690 - val_loss: 0.0860 - val_accuracy: 0.9702\n",
      "Epoch 27/100\n",
      "105/105 [==============================] - 27s 253ms/step - loss: 0.0887 - accuracy: 0.9723 - val_loss: 0.0834 - val_accuracy: 0.9714\n",
      "Epoch 28/100\n"
     ]
    },
    {
     "name": "stdout",
     "output_type": "stream",
     "text": [
      "105/105 [==============================] - 26s 246ms/step - loss: 0.0945 - accuracy: 0.9696 - val_loss: 0.0879 - val_accuracy: 0.9750\n",
      "Epoch 29/100\n",
      "105/105 [==============================] - 26s 246ms/step - loss: 0.0831 - accuracy: 0.9762 - val_loss: 0.1038 - val_accuracy: 0.9750\n",
      "Epoch 30/100\n",
      "105/105 [==============================] - 26s 250ms/step - loss: 0.0804 - accuracy: 0.9756 - val_loss: 0.0779 - val_accuracy: 0.9690\n",
      "Epoch 31/100\n",
      "105/105 [==============================] - 26s 248ms/step - loss: 0.0821 - accuracy: 0.9747 - val_loss: 0.0867 - val_accuracy: 0.9667\n",
      "Epoch 32/100\n",
      "105/105 [==============================] - 26s 249ms/step - loss: 0.0820 - accuracy: 0.9780 - val_loss: 0.0886 - val_accuracy: 0.9726\n",
      "Epoch 33/100\n",
      "105/105 [==============================] - 26s 250ms/step - loss: 0.0827 - accuracy: 0.9729 - val_loss: 0.0809 - val_accuracy: 0.9726\n"
     ]
    },
    {
     "data": {
      "application/vnd.plotly.v1+json": {
       "config": {
        "plotlyServerURL": "https://plot.ly"
       },
       "data": [
        {
         "hovertemplate": "variable=loss<br>Epoch=%{x}<br>Loss=%{y}<extra></extra>",
         "legendgroup": "loss",
         "line": {
          "color": "#636efa",
          "dash": "solid"
         },
         "marker": {
          "symbol": "circle"
         },
         "mode": "lines",
         "name": "loss",
         "orientation": "v",
         "showlegend": true,
         "type": "scatter",
         "x": [
          0,
          1,
          2,
          3,
          4,
          5,
          6,
          7,
          8,
          9,
          10,
          11,
          12,
          13,
          14,
          15,
          16,
          17,
          18,
          19,
          20,
          21,
          22,
          23,
          24,
          25,
          26,
          27,
          28,
          29,
          30,
          31,
          32
         ],
         "xaxis": "x",
         "y": [
          0.6734779477119446,
          0.6087390184402466,
          0.5236296653747559,
          0.4433433413505554,
          0.3514016568660736,
          0.29014497995376587,
          0.24967435002326965,
          0.20648427307605743,
          0.18047206103801727,
          0.1630249321460724,
          0.15956361591815948,
          0.14176705479621887,
          0.14266063272953033,
          0.12893551588058472,
          0.12265654653310776,
          0.11908799409866333,
          0.10968957841396332,
          0.10781943798065186,
          0.10484164208173752,
          0.09817866235971451,
          0.09890289604663849,
          0.09780941158533096,
          0.09408006817102432,
          0.09140487760305405,
          0.0955543965101242,
          0.09335895627737045,
          0.08870876580476761,
          0.09446795284748077,
          0.08313043415546417,
          0.0804198607802391,
          0.08212119340896606,
          0.08196473866701126,
          0.08271278440952301
         ],
         "yaxis": "y"
        },
        {
         "hovertemplate": "variable=val_loss<br>Epoch=%{x}<br>Loss=%{y}<extra></extra>",
         "legendgroup": "val_loss",
         "line": {
          "color": "#EF553B",
          "dash": "solid"
         },
         "marker": {
          "symbol": "circle"
         },
         "mode": "lines",
         "name": "val_loss",
         "orientation": "v",
         "showlegend": true,
         "type": "scatter",
         "x": [
          0,
          1,
          2,
          3,
          4,
          5,
          6,
          7,
          8,
          9,
          10,
          11,
          12,
          13,
          14,
          15,
          16,
          17,
          18,
          19,
          20,
          21,
          22,
          23,
          24,
          25,
          26,
          27,
          28,
          29,
          30,
          31,
          32
         ],
         "xaxis": "x",
         "y": [
          0.648260235786438,
          0.5602220296859741,
          0.4826711118221283,
          0.4129452705383301,
          0.3022186756134033,
          0.2724286615848541,
          0.20838239789009094,
          0.19084513187408447,
          0.15354038774967194,
          0.14163418114185333,
          0.13419659435749054,
          0.13284887373447418,
          0.11245927959680557,
          0.1092139184474945,
          0.10564067214727402,
          0.12500862777233124,
          0.11054578423500061,
          0.09974712878465652,
          0.10219527781009674,
          0.08962506055831909,
          0.08974044770002365,
          0.08491727709770203,
          0.09413827210664749,
          0.09038646519184113,
          0.08356842398643494,
          0.08602570742368698,
          0.08342380821704865,
          0.08788739144802094,
          0.10381431877613068,
          0.07790490984916687,
          0.08673926442861557,
          0.08861806988716125,
          0.08093394339084625
         ],
         "yaxis": "y"
        }
       ],
       "layout": {
        "legend": {
         "title": {
          "text": "variable"
         },
         "tracegroupgap": 0
        },
        "template": {
         "data": {
          "bar": [
           {
            "error_x": {
             "color": "#2a3f5f"
            },
            "error_y": {
             "color": "#2a3f5f"
            },
            "marker": {
             "line": {
              "color": "#E5ECF6",
              "width": 0.5
             },
             "pattern": {
              "fillmode": "overlay",
              "size": 10,
              "solidity": 0.2
             }
            },
            "type": "bar"
           }
          ],
          "barpolar": [
           {
            "marker": {
             "line": {
              "color": "#E5ECF6",
              "width": 0.5
             },
             "pattern": {
              "fillmode": "overlay",
              "size": 10,
              "solidity": 0.2
             }
            },
            "type": "barpolar"
           }
          ],
          "carpet": [
           {
            "aaxis": {
             "endlinecolor": "#2a3f5f",
             "gridcolor": "white",
             "linecolor": "white",
             "minorgridcolor": "white",
             "startlinecolor": "#2a3f5f"
            },
            "baxis": {
             "endlinecolor": "#2a3f5f",
             "gridcolor": "white",
             "linecolor": "white",
             "minorgridcolor": "white",
             "startlinecolor": "#2a3f5f"
            },
            "type": "carpet"
           }
          ],
          "choropleth": [
           {
            "colorbar": {
             "outlinewidth": 0,
             "ticks": ""
            },
            "type": "choropleth"
           }
          ],
          "contour": [
           {
            "colorbar": {
             "outlinewidth": 0,
             "ticks": ""
            },
            "colorscale": [
             [
              0,
              "#0d0887"
             ],
             [
              0.1111111111111111,
              "#46039f"
             ],
             [
              0.2222222222222222,
              "#7201a8"
             ],
             [
              0.3333333333333333,
              "#9c179e"
             ],
             [
              0.4444444444444444,
              "#bd3786"
             ],
             [
              0.5555555555555556,
              "#d8576b"
             ],
             [
              0.6666666666666666,
              "#ed7953"
             ],
             [
              0.7777777777777778,
              "#fb9f3a"
             ],
             [
              0.8888888888888888,
              "#fdca26"
             ],
             [
              1,
              "#f0f921"
             ]
            ],
            "type": "contour"
           }
          ],
          "contourcarpet": [
           {
            "colorbar": {
             "outlinewidth": 0,
             "ticks": ""
            },
            "type": "contourcarpet"
           }
          ],
          "heatmap": [
           {
            "colorbar": {
             "outlinewidth": 0,
             "ticks": ""
            },
            "colorscale": [
             [
              0,
              "#0d0887"
             ],
             [
              0.1111111111111111,
              "#46039f"
             ],
             [
              0.2222222222222222,
              "#7201a8"
             ],
             [
              0.3333333333333333,
              "#9c179e"
             ],
             [
              0.4444444444444444,
              "#bd3786"
             ],
             [
              0.5555555555555556,
              "#d8576b"
             ],
             [
              0.6666666666666666,
              "#ed7953"
             ],
             [
              0.7777777777777778,
              "#fb9f3a"
             ],
             [
              0.8888888888888888,
              "#fdca26"
             ],
             [
              1,
              "#f0f921"
             ]
            ],
            "type": "heatmap"
           }
          ],
          "heatmapgl": [
           {
            "colorbar": {
             "outlinewidth": 0,
             "ticks": ""
            },
            "colorscale": [
             [
              0,
              "#0d0887"
             ],
             [
              0.1111111111111111,
              "#46039f"
             ],
             [
              0.2222222222222222,
              "#7201a8"
             ],
             [
              0.3333333333333333,
              "#9c179e"
             ],
             [
              0.4444444444444444,
              "#bd3786"
             ],
             [
              0.5555555555555556,
              "#d8576b"
             ],
             [
              0.6666666666666666,
              "#ed7953"
             ],
             [
              0.7777777777777778,
              "#fb9f3a"
             ],
             [
              0.8888888888888888,
              "#fdca26"
             ],
             [
              1,
              "#f0f921"
             ]
            ],
            "type": "heatmapgl"
           }
          ],
          "histogram": [
           {
            "marker": {
             "pattern": {
              "fillmode": "overlay",
              "size": 10,
              "solidity": 0.2
             }
            },
            "type": "histogram"
           }
          ],
          "histogram2d": [
           {
            "colorbar": {
             "outlinewidth": 0,
             "ticks": ""
            },
            "colorscale": [
             [
              0,
              "#0d0887"
             ],
             [
              0.1111111111111111,
              "#46039f"
             ],
             [
              0.2222222222222222,
              "#7201a8"
             ],
             [
              0.3333333333333333,
              "#9c179e"
             ],
             [
              0.4444444444444444,
              "#bd3786"
             ],
             [
              0.5555555555555556,
              "#d8576b"
             ],
             [
              0.6666666666666666,
              "#ed7953"
             ],
             [
              0.7777777777777778,
              "#fb9f3a"
             ],
             [
              0.8888888888888888,
              "#fdca26"
             ],
             [
              1,
              "#f0f921"
             ]
            ],
            "type": "histogram2d"
           }
          ],
          "histogram2dcontour": [
           {
            "colorbar": {
             "outlinewidth": 0,
             "ticks": ""
            },
            "colorscale": [
             [
              0,
              "#0d0887"
             ],
             [
              0.1111111111111111,
              "#46039f"
             ],
             [
              0.2222222222222222,
              "#7201a8"
             ],
             [
              0.3333333333333333,
              "#9c179e"
             ],
             [
              0.4444444444444444,
              "#bd3786"
             ],
             [
              0.5555555555555556,
              "#d8576b"
             ],
             [
              0.6666666666666666,
              "#ed7953"
             ],
             [
              0.7777777777777778,
              "#fb9f3a"
             ],
             [
              0.8888888888888888,
              "#fdca26"
             ],
             [
              1,
              "#f0f921"
             ]
            ],
            "type": "histogram2dcontour"
           }
          ],
          "mesh3d": [
           {
            "colorbar": {
             "outlinewidth": 0,
             "ticks": ""
            },
            "type": "mesh3d"
           }
          ],
          "parcoords": [
           {
            "line": {
             "colorbar": {
              "outlinewidth": 0,
              "ticks": ""
             }
            },
            "type": "parcoords"
           }
          ],
          "pie": [
           {
            "automargin": true,
            "type": "pie"
           }
          ],
          "scatter": [
           {
            "fillpattern": {
             "fillmode": "overlay",
             "size": 10,
             "solidity": 0.2
            },
            "type": "scatter"
           }
          ],
          "scatter3d": [
           {
            "line": {
             "colorbar": {
              "outlinewidth": 0,
              "ticks": ""
             }
            },
            "marker": {
             "colorbar": {
              "outlinewidth": 0,
              "ticks": ""
             }
            },
            "type": "scatter3d"
           }
          ],
          "scattercarpet": [
           {
            "marker": {
             "colorbar": {
              "outlinewidth": 0,
              "ticks": ""
             }
            },
            "type": "scattercarpet"
           }
          ],
          "scattergeo": [
           {
            "marker": {
             "colorbar": {
              "outlinewidth": 0,
              "ticks": ""
             }
            },
            "type": "scattergeo"
           }
          ],
          "scattergl": [
           {
            "marker": {
             "colorbar": {
              "outlinewidth": 0,
              "ticks": ""
             }
            },
            "type": "scattergl"
           }
          ],
          "scattermapbox": [
           {
            "marker": {
             "colorbar": {
              "outlinewidth": 0,
              "ticks": ""
             }
            },
            "type": "scattermapbox"
           }
          ],
          "scatterpolar": [
           {
            "marker": {
             "colorbar": {
              "outlinewidth": 0,
              "ticks": ""
             }
            },
            "type": "scatterpolar"
           }
          ],
          "scatterpolargl": [
           {
            "marker": {
             "colorbar": {
              "outlinewidth": 0,
              "ticks": ""
             }
            },
            "type": "scatterpolargl"
           }
          ],
          "scatterternary": [
           {
            "marker": {
             "colorbar": {
              "outlinewidth": 0,
              "ticks": ""
             }
            },
            "type": "scatterternary"
           }
          ],
          "surface": [
           {
            "colorbar": {
             "outlinewidth": 0,
             "ticks": ""
            },
            "colorscale": [
             [
              0,
              "#0d0887"
             ],
             [
              0.1111111111111111,
              "#46039f"
             ],
             [
              0.2222222222222222,
              "#7201a8"
             ],
             [
              0.3333333333333333,
              "#9c179e"
             ],
             [
              0.4444444444444444,
              "#bd3786"
             ],
             [
              0.5555555555555556,
              "#d8576b"
             ],
             [
              0.6666666666666666,
              "#ed7953"
             ],
             [
              0.7777777777777778,
              "#fb9f3a"
             ],
             [
              0.8888888888888888,
              "#fdca26"
             ],
             [
              1,
              "#f0f921"
             ]
            ],
            "type": "surface"
           }
          ],
          "table": [
           {
            "cells": {
             "fill": {
              "color": "#EBF0F8"
             },
             "line": {
              "color": "white"
             }
            },
            "header": {
             "fill": {
              "color": "#C8D4E3"
             },
             "line": {
              "color": "white"
             }
            },
            "type": "table"
           }
          ]
         },
         "layout": {
          "annotationdefaults": {
           "arrowcolor": "#2a3f5f",
           "arrowhead": 0,
           "arrowwidth": 1
          },
          "autotypenumbers": "strict",
          "coloraxis": {
           "colorbar": {
            "outlinewidth": 0,
            "ticks": ""
           }
          },
          "colorscale": {
           "diverging": [
            [
             0,
             "#8e0152"
            ],
            [
             0.1,
             "#c51b7d"
            ],
            [
             0.2,
             "#de77ae"
            ],
            [
             0.3,
             "#f1b6da"
            ],
            [
             0.4,
             "#fde0ef"
            ],
            [
             0.5,
             "#f7f7f7"
            ],
            [
             0.6,
             "#e6f5d0"
            ],
            [
             0.7,
             "#b8e186"
            ],
            [
             0.8,
             "#7fbc41"
            ],
            [
             0.9,
             "#4d9221"
            ],
            [
             1,
             "#276419"
            ]
           ],
           "sequential": [
            [
             0,
             "#0d0887"
            ],
            [
             0.1111111111111111,
             "#46039f"
            ],
            [
             0.2222222222222222,
             "#7201a8"
            ],
            [
             0.3333333333333333,
             "#9c179e"
            ],
            [
             0.4444444444444444,
             "#bd3786"
            ],
            [
             0.5555555555555556,
             "#d8576b"
            ],
            [
             0.6666666666666666,
             "#ed7953"
            ],
            [
             0.7777777777777778,
             "#fb9f3a"
            ],
            [
             0.8888888888888888,
             "#fdca26"
            ],
            [
             1,
             "#f0f921"
            ]
           ],
           "sequentialminus": [
            [
             0,
             "#0d0887"
            ],
            [
             0.1111111111111111,
             "#46039f"
            ],
            [
             0.2222222222222222,
             "#7201a8"
            ],
            [
             0.3333333333333333,
             "#9c179e"
            ],
            [
             0.4444444444444444,
             "#bd3786"
            ],
            [
             0.5555555555555556,
             "#d8576b"
            ],
            [
             0.6666666666666666,
             "#ed7953"
            ],
            [
             0.7777777777777778,
             "#fb9f3a"
            ],
            [
             0.8888888888888888,
             "#fdca26"
            ],
            [
             1,
             "#f0f921"
            ]
           ]
          },
          "colorway": [
           "#636efa",
           "#EF553B",
           "#00cc96",
           "#ab63fa",
           "#FFA15A",
           "#19d3f3",
           "#FF6692",
           "#B6E880",
           "#FF97FF",
           "#FECB52"
          ],
          "font": {
           "color": "#2a3f5f"
          },
          "geo": {
           "bgcolor": "white",
           "lakecolor": "white",
           "landcolor": "#E5ECF6",
           "showlakes": true,
           "showland": true,
           "subunitcolor": "white"
          },
          "hoverlabel": {
           "align": "left"
          },
          "hovermode": "closest",
          "mapbox": {
           "style": "light"
          },
          "paper_bgcolor": "white",
          "plot_bgcolor": "#E5ECF6",
          "polar": {
           "angularaxis": {
            "gridcolor": "white",
            "linecolor": "white",
            "ticks": ""
           },
           "bgcolor": "#E5ECF6",
           "radialaxis": {
            "gridcolor": "white",
            "linecolor": "white",
            "ticks": ""
           }
          },
          "scene": {
           "xaxis": {
            "backgroundcolor": "#E5ECF6",
            "gridcolor": "white",
            "gridwidth": 2,
            "linecolor": "white",
            "showbackground": true,
            "ticks": "",
            "zerolinecolor": "white"
           },
           "yaxis": {
            "backgroundcolor": "#E5ECF6",
            "gridcolor": "white",
            "gridwidth": 2,
            "linecolor": "white",
            "showbackground": true,
            "ticks": "",
            "zerolinecolor": "white"
           },
           "zaxis": {
            "backgroundcolor": "#E5ECF6",
            "gridcolor": "white",
            "gridwidth": 2,
            "linecolor": "white",
            "showbackground": true,
            "ticks": "",
            "zerolinecolor": "white"
           }
          },
          "shapedefaults": {
           "line": {
            "color": "#2a3f5f"
           }
          },
          "ternary": {
           "aaxis": {
            "gridcolor": "white",
            "linecolor": "white",
            "ticks": ""
           },
           "baxis": {
            "gridcolor": "white",
            "linecolor": "white",
            "ticks": ""
           },
           "bgcolor": "#E5ECF6",
           "caxis": {
            "gridcolor": "white",
            "linecolor": "white",
            "ticks": ""
           }
          },
          "title": {
           "x": 0.05
          },
          "xaxis": {
           "automargin": true,
           "gridcolor": "white",
           "linecolor": "white",
           "ticks": "",
           "title": {
            "standoff": 15
           },
           "zerolinecolor": "white",
           "zerolinewidth": 2
          },
          "yaxis": {
           "automargin": true,
           "gridcolor": "white",
           "linecolor": "white",
           "ticks": "",
           "title": {
            "standoff": 15
           },
           "zerolinecolor": "white",
           "zerolinewidth": 2
          }
         }
        },
        "title": {
         "text": "Training and Validation Loss Over Time"
        },
        "xaxis": {
         "anchor": "y",
         "domain": [
          0,
          1
         ],
         "title": {
          "text": "Epoch"
         }
        },
        "yaxis": {
         "anchor": "x",
         "domain": [
          0,
          1
         ],
         "title": {
          "text": "Loss"
         }
        }
       }
      },
      "text/html": [
       "<div>                            <div id=\"0320dd51-558e-498e-af9d-4d7fc41d1bd4\" class=\"plotly-graph-div\" style=\"height:525px; width:100%;\"></div>            <script type=\"text/javascript\">                require([\"plotly\"], function(Plotly) {                    window.PLOTLYENV=window.PLOTLYENV || {};                                    if (document.getElementById(\"0320dd51-558e-498e-af9d-4d7fc41d1bd4\")) {                    Plotly.newPlot(                        \"0320dd51-558e-498e-af9d-4d7fc41d1bd4\",                        [{\"hovertemplate\":\"variable=loss<br>Epoch=%{x}<br>Loss=%{y}<extra></extra>\",\"legendgroup\":\"loss\",\"line\":{\"color\":\"#636efa\",\"dash\":\"solid\"},\"marker\":{\"symbol\":\"circle\"},\"mode\":\"lines\",\"name\":\"loss\",\"orientation\":\"v\",\"showlegend\":true,\"x\":[0,1,2,3,4,5,6,7,8,9,10,11,12,13,14,15,16,17,18,19,20,21,22,23,24,25,26,27,28,29,30,31,32],\"xaxis\":\"x\",\"y\":[0.6734779477119446,0.6087390184402466,0.5236296653747559,0.4433433413505554,0.3514016568660736,0.29014497995376587,0.24967435002326965,0.20648427307605743,0.18047206103801727,0.1630249321460724,0.15956361591815948,0.14176705479621887,0.14266063272953033,0.12893551588058472,0.12265654653310776,0.11908799409866333,0.10968957841396332,0.10781943798065186,0.10484164208173752,0.09817866235971451,0.09890289604663849,0.09780941158533096,0.09408006817102432,0.09140487760305405,0.0955543965101242,0.09335895627737045,0.08870876580476761,0.09446795284748077,0.08313043415546417,0.0804198607802391,0.08212119340896606,0.08196473866701126,0.08271278440952301],\"yaxis\":\"y\",\"type\":\"scatter\"},{\"hovertemplate\":\"variable=val_loss<br>Epoch=%{x}<br>Loss=%{y}<extra></extra>\",\"legendgroup\":\"val_loss\",\"line\":{\"color\":\"#EF553B\",\"dash\":\"solid\"},\"marker\":{\"symbol\":\"circle\"},\"mode\":\"lines\",\"name\":\"val_loss\",\"orientation\":\"v\",\"showlegend\":true,\"x\":[0,1,2,3,4,5,6,7,8,9,10,11,12,13,14,15,16,17,18,19,20,21,22,23,24,25,26,27,28,29,30,31,32],\"xaxis\":\"x\",\"y\":[0.648260235786438,0.5602220296859741,0.4826711118221283,0.4129452705383301,0.3022186756134033,0.2724286615848541,0.20838239789009094,0.19084513187408447,0.15354038774967194,0.14163418114185333,0.13419659435749054,0.13284887373447418,0.11245927959680557,0.1092139184474945,0.10564067214727402,0.12500862777233124,0.11054578423500061,0.09974712878465652,0.10219527781009674,0.08962506055831909,0.08974044770002365,0.08491727709770203,0.09413827210664749,0.09038646519184113,0.08356842398643494,0.08602570742368698,0.08342380821704865,0.08788739144802094,0.10381431877613068,0.07790490984916687,0.08673926442861557,0.08861806988716125,0.08093394339084625],\"yaxis\":\"y\",\"type\":\"scatter\"}],                        {\"template\":{\"data\":{\"histogram2dcontour\":[{\"type\":\"histogram2dcontour\",\"colorbar\":{\"outlinewidth\":0,\"ticks\":\"\"},\"colorscale\":[[0.0,\"#0d0887\"],[0.1111111111111111,\"#46039f\"],[0.2222222222222222,\"#7201a8\"],[0.3333333333333333,\"#9c179e\"],[0.4444444444444444,\"#bd3786\"],[0.5555555555555556,\"#d8576b\"],[0.6666666666666666,\"#ed7953\"],[0.7777777777777778,\"#fb9f3a\"],[0.8888888888888888,\"#fdca26\"],[1.0,\"#f0f921\"]]}],\"choropleth\":[{\"type\":\"choropleth\",\"colorbar\":{\"outlinewidth\":0,\"ticks\":\"\"}}],\"histogram2d\":[{\"type\":\"histogram2d\",\"colorbar\":{\"outlinewidth\":0,\"ticks\":\"\"},\"colorscale\":[[0.0,\"#0d0887\"],[0.1111111111111111,\"#46039f\"],[0.2222222222222222,\"#7201a8\"],[0.3333333333333333,\"#9c179e\"],[0.4444444444444444,\"#bd3786\"],[0.5555555555555556,\"#d8576b\"],[0.6666666666666666,\"#ed7953\"],[0.7777777777777778,\"#fb9f3a\"],[0.8888888888888888,\"#fdca26\"],[1.0,\"#f0f921\"]]}],\"heatmap\":[{\"type\":\"heatmap\",\"colorbar\":{\"outlinewidth\":0,\"ticks\":\"\"},\"colorscale\":[[0.0,\"#0d0887\"],[0.1111111111111111,\"#46039f\"],[0.2222222222222222,\"#7201a8\"],[0.3333333333333333,\"#9c179e\"],[0.4444444444444444,\"#bd3786\"],[0.5555555555555556,\"#d8576b\"],[0.6666666666666666,\"#ed7953\"],[0.7777777777777778,\"#fb9f3a\"],[0.8888888888888888,\"#fdca26\"],[1.0,\"#f0f921\"]]}],\"heatmapgl\":[{\"type\":\"heatmapgl\",\"colorbar\":{\"outlinewidth\":0,\"ticks\":\"\"},\"colorscale\":[[0.0,\"#0d0887\"],[0.1111111111111111,\"#46039f\"],[0.2222222222222222,\"#7201a8\"],[0.3333333333333333,\"#9c179e\"],[0.4444444444444444,\"#bd3786\"],[0.5555555555555556,\"#d8576b\"],[0.6666666666666666,\"#ed7953\"],[0.7777777777777778,\"#fb9f3a\"],[0.8888888888888888,\"#fdca26\"],[1.0,\"#f0f921\"]]}],\"contourcarpet\":[{\"type\":\"contourcarpet\",\"colorbar\":{\"outlinewidth\":0,\"ticks\":\"\"}}],\"contour\":[{\"type\":\"contour\",\"colorbar\":{\"outlinewidth\":0,\"ticks\":\"\"},\"colorscale\":[[0.0,\"#0d0887\"],[0.1111111111111111,\"#46039f\"],[0.2222222222222222,\"#7201a8\"],[0.3333333333333333,\"#9c179e\"],[0.4444444444444444,\"#bd3786\"],[0.5555555555555556,\"#d8576b\"],[0.6666666666666666,\"#ed7953\"],[0.7777777777777778,\"#fb9f3a\"],[0.8888888888888888,\"#fdca26\"],[1.0,\"#f0f921\"]]}],\"surface\":[{\"type\":\"surface\",\"colorbar\":{\"outlinewidth\":0,\"ticks\":\"\"},\"colorscale\":[[0.0,\"#0d0887\"],[0.1111111111111111,\"#46039f\"],[0.2222222222222222,\"#7201a8\"],[0.3333333333333333,\"#9c179e\"],[0.4444444444444444,\"#bd3786\"],[0.5555555555555556,\"#d8576b\"],[0.6666666666666666,\"#ed7953\"],[0.7777777777777778,\"#fb9f3a\"],[0.8888888888888888,\"#fdca26\"],[1.0,\"#f0f921\"]]}],\"mesh3d\":[{\"type\":\"mesh3d\",\"colorbar\":{\"outlinewidth\":0,\"ticks\":\"\"}}],\"scatter\":[{\"fillpattern\":{\"fillmode\":\"overlay\",\"size\":10,\"solidity\":0.2},\"type\":\"scatter\"}],\"parcoords\":[{\"type\":\"parcoords\",\"line\":{\"colorbar\":{\"outlinewidth\":0,\"ticks\":\"\"}}}],\"scatterpolargl\":[{\"type\":\"scatterpolargl\",\"marker\":{\"colorbar\":{\"outlinewidth\":0,\"ticks\":\"\"}}}],\"bar\":[{\"error_x\":{\"color\":\"#2a3f5f\"},\"error_y\":{\"color\":\"#2a3f5f\"},\"marker\":{\"line\":{\"color\":\"#E5ECF6\",\"width\":0.5},\"pattern\":{\"fillmode\":\"overlay\",\"size\":10,\"solidity\":0.2}},\"type\":\"bar\"}],\"scattergeo\":[{\"type\":\"scattergeo\",\"marker\":{\"colorbar\":{\"outlinewidth\":0,\"ticks\":\"\"}}}],\"scatterpolar\":[{\"type\":\"scatterpolar\",\"marker\":{\"colorbar\":{\"outlinewidth\":0,\"ticks\":\"\"}}}],\"histogram\":[{\"marker\":{\"pattern\":{\"fillmode\":\"overlay\",\"size\":10,\"solidity\":0.2}},\"type\":\"histogram\"}],\"scattergl\":[{\"type\":\"scattergl\",\"marker\":{\"colorbar\":{\"outlinewidth\":0,\"ticks\":\"\"}}}],\"scatter3d\":[{\"type\":\"scatter3d\",\"line\":{\"colorbar\":{\"outlinewidth\":0,\"ticks\":\"\"}},\"marker\":{\"colorbar\":{\"outlinewidth\":0,\"ticks\":\"\"}}}],\"scattermapbox\":[{\"type\":\"scattermapbox\",\"marker\":{\"colorbar\":{\"outlinewidth\":0,\"ticks\":\"\"}}}],\"scatterternary\":[{\"type\":\"scatterternary\",\"marker\":{\"colorbar\":{\"outlinewidth\":0,\"ticks\":\"\"}}}],\"scattercarpet\":[{\"type\":\"scattercarpet\",\"marker\":{\"colorbar\":{\"outlinewidth\":0,\"ticks\":\"\"}}}],\"carpet\":[{\"aaxis\":{\"endlinecolor\":\"#2a3f5f\",\"gridcolor\":\"white\",\"linecolor\":\"white\",\"minorgridcolor\":\"white\",\"startlinecolor\":\"#2a3f5f\"},\"baxis\":{\"endlinecolor\":\"#2a3f5f\",\"gridcolor\":\"white\",\"linecolor\":\"white\",\"minorgridcolor\":\"white\",\"startlinecolor\":\"#2a3f5f\"},\"type\":\"carpet\"}],\"table\":[{\"cells\":{\"fill\":{\"color\":\"#EBF0F8\"},\"line\":{\"color\":\"white\"}},\"header\":{\"fill\":{\"color\":\"#C8D4E3\"},\"line\":{\"color\":\"white\"}},\"type\":\"table\"}],\"barpolar\":[{\"marker\":{\"line\":{\"color\":\"#E5ECF6\",\"width\":0.5},\"pattern\":{\"fillmode\":\"overlay\",\"size\":10,\"solidity\":0.2}},\"type\":\"barpolar\"}],\"pie\":[{\"automargin\":true,\"type\":\"pie\"}]},\"layout\":{\"autotypenumbers\":\"strict\",\"colorway\":[\"#636efa\",\"#EF553B\",\"#00cc96\",\"#ab63fa\",\"#FFA15A\",\"#19d3f3\",\"#FF6692\",\"#B6E880\",\"#FF97FF\",\"#FECB52\"],\"font\":{\"color\":\"#2a3f5f\"},\"hovermode\":\"closest\",\"hoverlabel\":{\"align\":\"left\"},\"paper_bgcolor\":\"white\",\"plot_bgcolor\":\"#E5ECF6\",\"polar\":{\"bgcolor\":\"#E5ECF6\",\"angularaxis\":{\"gridcolor\":\"white\",\"linecolor\":\"white\",\"ticks\":\"\"},\"radialaxis\":{\"gridcolor\":\"white\",\"linecolor\":\"white\",\"ticks\":\"\"}},\"ternary\":{\"bgcolor\":\"#E5ECF6\",\"aaxis\":{\"gridcolor\":\"white\",\"linecolor\":\"white\",\"ticks\":\"\"},\"baxis\":{\"gridcolor\":\"white\",\"linecolor\":\"white\",\"ticks\":\"\"},\"caxis\":{\"gridcolor\":\"white\",\"linecolor\":\"white\",\"ticks\":\"\"}},\"coloraxis\":{\"colorbar\":{\"outlinewidth\":0,\"ticks\":\"\"}},\"colorscale\":{\"sequential\":[[0.0,\"#0d0887\"],[0.1111111111111111,\"#46039f\"],[0.2222222222222222,\"#7201a8\"],[0.3333333333333333,\"#9c179e\"],[0.4444444444444444,\"#bd3786\"],[0.5555555555555556,\"#d8576b\"],[0.6666666666666666,\"#ed7953\"],[0.7777777777777778,\"#fb9f3a\"],[0.8888888888888888,\"#fdca26\"],[1.0,\"#f0f921\"]],\"sequentialminus\":[[0.0,\"#0d0887\"],[0.1111111111111111,\"#46039f\"],[0.2222222222222222,\"#7201a8\"],[0.3333333333333333,\"#9c179e\"],[0.4444444444444444,\"#bd3786\"],[0.5555555555555556,\"#d8576b\"],[0.6666666666666666,\"#ed7953\"],[0.7777777777777778,\"#fb9f3a\"],[0.8888888888888888,\"#fdca26\"],[1.0,\"#f0f921\"]],\"diverging\":[[0,\"#8e0152\"],[0.1,\"#c51b7d\"],[0.2,\"#de77ae\"],[0.3,\"#f1b6da\"],[0.4,\"#fde0ef\"],[0.5,\"#f7f7f7\"],[0.6,\"#e6f5d0\"],[0.7,\"#b8e186\"],[0.8,\"#7fbc41\"],[0.9,\"#4d9221\"],[1,\"#276419\"]]},\"xaxis\":{\"gridcolor\":\"white\",\"linecolor\":\"white\",\"ticks\":\"\",\"title\":{\"standoff\":15},\"zerolinecolor\":\"white\",\"automargin\":true,\"zerolinewidth\":2},\"yaxis\":{\"gridcolor\":\"white\",\"linecolor\":\"white\",\"ticks\":\"\",\"title\":{\"standoff\":15},\"zerolinecolor\":\"white\",\"automargin\":true,\"zerolinewidth\":2},\"scene\":{\"xaxis\":{\"backgroundcolor\":\"#E5ECF6\",\"gridcolor\":\"white\",\"linecolor\":\"white\",\"showbackground\":true,\"ticks\":\"\",\"zerolinecolor\":\"white\",\"gridwidth\":2},\"yaxis\":{\"backgroundcolor\":\"#E5ECF6\",\"gridcolor\":\"white\",\"linecolor\":\"white\",\"showbackground\":true,\"ticks\":\"\",\"zerolinecolor\":\"white\",\"gridwidth\":2},\"zaxis\":{\"backgroundcolor\":\"#E5ECF6\",\"gridcolor\":\"white\",\"linecolor\":\"white\",\"showbackground\":true,\"ticks\":\"\",\"zerolinecolor\":\"white\",\"gridwidth\":2}},\"shapedefaults\":{\"line\":{\"color\":\"#2a3f5f\"}},\"annotationdefaults\":{\"arrowcolor\":\"#2a3f5f\",\"arrowhead\":0,\"arrowwidth\":1},\"geo\":{\"bgcolor\":\"white\",\"landcolor\":\"#E5ECF6\",\"subunitcolor\":\"white\",\"showland\":true,\"showlakes\":true,\"lakecolor\":\"white\"},\"title\":{\"x\":0.05},\"mapbox\":{\"style\":\"light\"}}},\"xaxis\":{\"anchor\":\"y\",\"domain\":[0.0,1.0],\"title\":{\"text\":\"Epoch\"}},\"yaxis\":{\"anchor\":\"x\",\"domain\":[0.0,1.0],\"title\":{\"text\":\"Loss\"}},\"legend\":{\"title\":{\"text\":\"variable\"},\"tracegroupgap\":0},\"title\":{\"text\":\"Training and Validation Loss Over Time\"}},                        {\"responsive\": true}                    ).then(function(){\n",
       "                            \n",
       "var gd = document.getElementById('0320dd51-558e-498e-af9d-4d7fc41d1bd4');\n",
       "var x = new MutationObserver(function (mutations, observer) {{\n",
       "        var display = window.getComputedStyle(gd).display;\n",
       "        if (!display || display === 'none') {{\n",
       "            console.log([gd, 'removed!']);\n",
       "            Plotly.purge(gd);\n",
       "            observer.disconnect();\n",
       "        }}\n",
       "}});\n",
       "\n",
       "// Listen for the removal of the full notebook cells\n",
       "var notebookContainer = gd.closest('#notebook-container');\n",
       "if (notebookContainer) {{\n",
       "    x.observe(notebookContainer, {childList: true});\n",
       "}}\n",
       "\n",
       "// Listen for the clearing of the current output cell\n",
       "var outputEl = gd.closest('.output');\n",
       "if (outputEl) {{\n",
       "    x.observe(outputEl, {childList: true});\n",
       "}}\n",
       "\n",
       "                        })                };                });            </script>        </div>"
      ]
     },
     "metadata": {},
     "output_type": "display_data"
    }
   ],
   "source": [
    "#Create DataFrames\n",
    "def generate_df(image_dir, label):\n",
    "\tfilepaths = pd.Series(list(image_dir.glob(r'*.jpg')),name='Filepath').astype(str)\n",
    "\tlabels = pd.Series(label, name='Label', index=filepaths.index)\n",
    "\n",
    "\tdf = pd.concat([filepaths, labels], axis=1)\n",
    "\treturn df\n",
    "\n",
    "possitive_df = generate_df(possitive_dir, label=\"POSITIVE\")\n",
    "negative_df = generate_df(negative_dir, label=\"NEGATIVE\")\n",
    "\n",
    "all_df = pd.concat([possitive_df, negative_df], axis=0).sample(frac=1.0, random_state=1).reset_index(drop=True)\n",
    "print(all_df)\n",
    "\n",
    "train_df, test_df = train_test_split(\n",
    "\tall_df.sample(6000, random_state=1),\n",
    "\ttrain_size=0.7,\n",
    "\tshuffle=True,\n",
    "\trandom_state=1\n",
    ")\n",
    "\n",
    "print(train_df)\n",
    "print(test_df)\n",
    "\n",
    "#Loading image data\n",
    "\n",
    "train_gen = tf.keras.preprocessing.image.ImageDataGenerator(\n",
    "\trescale=1./255,\n",
    "\tvalidation_split=0.2\n",
    ")\n",
    "test_gen = tf.keras.preprocessing.image.ImageDataGenerator(\n",
    "\trescale=1./255\n",
    ")\n",
    "\n",
    "train_data = train_gen.flow_from_dataframe(\n",
    "\ttrain_df,\n",
    "\tx_col='Filepath',\n",
    "\ty_col='Label',\n",
    "\ttarget_size=(120,120),\n",
    "\tcolor_mode='rgb',\n",
    "\tclass_mode='binary',\n",
    "\tbatch_size=32,\n",
    "\tshuffle=True,\n",
    "\tseed=42,\n",
    "\tsubset='training'\n",
    ")\n",
    "\n",
    "val_data = train_gen.flow_from_dataframe(\n",
    "\ttrain_df,\n",
    "\tx_col='Filepath',\n",
    "\ty_col='Label',\n",
    "\ttarget_size=(120,120),\n",
    "\tcolor_mode='rgb',\n",
    "\tclass_mode='binary',\n",
    "\tbatch_size=32,\n",
    "\tshuffle=True,\n",
    "\tseed=42,\n",
    "\tsubset='validation'\n",
    ")\n",
    "\n",
    "test_data = test_gen.flow_from_dataframe(\n",
    "\ttest_df,\n",
    "\tx_col='Filepath',\n",
    "\ty_col='Label',\n",
    "\ttarget_size=(120,120),\n",
    "\tcolor_mode='rgb',\n",
    "\tclass_mode='binary',\n",
    "\tbatch_size=32,\n",
    "\tshuffle=False,\n",
    "\tseed=42\n",
    ")\n",
    "\n",
    "inputs = tf.keras.Input(shape=(120,120,3))\n",
    "x=tf.keras.layers.Conv2D(filters=16, kernel_size=(3,3), activation='relu')(inputs)\n",
    "x=tf.keras.layers.MaxPool2D(pool_size=(2,2))(x)\n",
    "x=tf.keras.layers.Conv2D(filters=32, kernel_size=(3,3), activation='relu')(x)\n",
    "x=tf.keras.layers.MaxPool2D(pool_size=(2,2))(x)\n",
    "x=tf.keras.layers.GlobalAveragePooling2D()(x)\n",
    "outputs = tf.keras.layers.Dense(1, activation='sigmoid')(x)\n",
    "\n",
    "model = tf.keras.Model(inputs=inputs,outputs=outputs)\n",
    "\n",
    "model.compile(\n",
    "\toptimizer='adam',\n",
    "\tloss='binary_crossentropy',\n",
    "\tmetrics=['accuracy']\n",
    ")\n",
    "\n",
    "print(model.summary())\n",
    "\n",
    "history = model.fit(\n",
    "\ttrain_data,\n",
    "\tvalidation_data=val_data,\n",
    "\tepochs=100,\n",
    "\tcallbacks=[\n",
    "\t\ttf.keras.callbacks.EarlyStopping(\n",
    "\t\t\tmonitor='val_loss',\n",
    "\t\t\tpatience=3,\n",
    "\t\t\trestore_best_weights=True\n",
    "\t\t)\n",
    "\t]\n",
    "\n",
    ")\n",
    "\n",
    "\n",
    "fig = px.line(\n",
    "\thistory.history,\n",
    "\ty=['loss', 'val_loss'],\n",
    "\tlabels={'index':\"Epoch\",'value':\"Loss\"},\n",
    "\ttitle=\"Training and Validation Loss Over Time\"\n",
    ")\n",
    "\n",
    "\n",
    "fig.show()\n",
    "\n"
   ]
  },
  {
   "cell_type": "code",
   "execution_count": 9,
   "id": "5d9d4e99",
   "metadata": {},
   "outputs": [
    {
     "name": "stdout",
     "output_type": "stream",
     "text": [
      "Test Loss: {:.5f}% 0.06606388837099075\n",
      "Test Accuracy: {:.2f}% 97.7222204208374\n",
      "57/57 [==============================] - 4s 76ms/step\n"
     ]
    },
    {
     "name": "stderr",
     "output_type": "stream",
     "text": [
      "C:\\Users\\danh\\AppData\\Local\\Programs\\Python\\Python37\\lib\\site-packages\\ipykernel_launcher.py:11: DeprecationWarning:\n",
      "\n",
      "`np.int` is a deprecated alias for the builtin `int`. To silence this warning, use `int` by itself. Doing this will not modify any behavior and is safe. When replacing `np.int`, you may wish to use e.g. `np.int64` or `np.int32` to specify the precision. If you wish to review your current use, check the release note link for additional information.\n",
      "Deprecated in NumPy 1.20; for more details and guidance: https://numpy.org/devdocs/release/1.20.0-notes.html#deprecations\n",
      "\n"
     ]
    },
    {
     "data": {
      "image/png": "[encoded data removed]",
      "text/plain": [
       "<Figure size 432x432 with 1 Axes>"
      ]
     },
     "metadata": {
      "needs_background": "light"
     },
     "output_type": "display_data"
    },
    {
     "name": "stdout",
     "output_type": "stream",
     "text": [
      "Classificationn Report:\n",
      "--------------               precision    recall  f1-score   support\n",
      "\n",
      "    NEGATIVE       0.97      0.99      0.98       917\n",
      "    POSITIVE       0.99      0.96      0.98       883\n",
      "\n",
      "    accuracy                           0.98      1800\n",
      "   macro avg       0.98      0.98      0.98      1800\n",
      "weighted avg       0.98      0.98      0.98      1800\n",
      "\n"
     ]
    }
   ],
   "source": [
    "#Results\n",
    "\n",
    "def evaluate_model(model, test_data):\n",
    "\tresults = model.evaluate(test_data, verbose=0)\n",
    "\tloss = results[0]\n",
    "\tacc = results[1]\n",
    "\n",
    "\tprint(\"Test Loss: {:.5f}%\",format(loss))\n",
    "\tprint(\"Test Accuracy: {:.2f}%\",format(acc*100))\n",
    "\n",
    "\ty_pred = np.squeeze((model.predict(test_data) >= 0.5).astype(np.int))\n",
    "\tcm = confusion_matrix(test_data.labels, y_pred)\n",
    "\tclr = classification_report(test_data.labels, y_pred, target_names=[\"NEGATIVE\",\"POSITIVE\"])\n",
    "\n",
    "\tplt.figure(figsize=(6,6))\n",
    "\tsns.heatmap(cm, annot=True, fmt='g', vmin=0, cmap='Blues', cbar=False)\n",
    "\tplt.xticks(ticks=np.arange(2) + 0.5, labels=[\"NEGATIVE\",\"POSITIVE\"])\n",
    "\tplt.yticks(ticks=np.arange(2) + 0.5, labels=[\"NEGATIVE\",\"POSITIVE\"])\n",
    "\tplt.xlabel(\"Predicted\")\n",
    "\tplt.ylabel(\"Actual\")\n",
    "\tplt.title(\"Confusion Matrix\")\n",
    "\tplt.show()\n",
    "\n",
    "\tprint(\"Classificationn Report:\\n--------------\", clr)\n",
    "\n",
    "evaluate_model(model, test_data)\n"
   ]
  },
  {
   "cell_type": "code",
   "execution_count": null,
   "id": "1a6bc1c9",
   "metadata": {},
   "outputs": [],
   "source": []
  }
 ],
 "metadata": {
  "kernelspec": {
   "display_name": "Python 3 (ipykernel)",
   "language": "python",
   "name": "python3"
  },
  "language_info": {
   "codemirror_mode": {
    "name": "ipython",
    "version": 3
   },
   "file_extension": ".py",
   "mimetype": "text/x-python",
   "name": "python",
   "nbconvert_exporter": "python",
   "pygments_lexer": "ipython3",
   "version": "3.7.0"
  }
 },
 "nbformat": 4,
 "nbformat_minor": 5
}
