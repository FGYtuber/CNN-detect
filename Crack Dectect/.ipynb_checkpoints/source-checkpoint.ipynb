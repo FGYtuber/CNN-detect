{
 "cells": [
  {
   "cell_type": "code",
   "execution_count": null,
   "metadata": {},
   "outputs": [],
   "source": [
    "#import library\n",
    "import tensorflow as tf\n",
    "\n",
    "import matplotlib.pyplot as plt \n",
    "import numpy as np \n",
    "import pandas as pd \n",
    "import seaborn as sns\n",
    "\n",
    "import plotly.express as px\n",
    "\n",
    "from pathlib import Path  \n",
    "from sklearn.model_selection import train_test_split\n",
    "from sklearn.metrics import confusion_matrix, classification_report\n"
   ]
  }
 ],
 "metadata": {
  "kernelspec": {
   "display_name": "Python 3",
   "language": "python",
   "name": "python3"
  },
  "language_info": {
   "name": "python",
   "version": "3.7.0"
  },
  "vscode": {
   "interpreter": {
    "hash": "2573a4b4a4ce624e1a424321d6b44518d1f567314a22abe71c50bef879ec7fbf"
   }
  }
 },
 "nbformat": 4,
 "nbformat_minor": 2
}
